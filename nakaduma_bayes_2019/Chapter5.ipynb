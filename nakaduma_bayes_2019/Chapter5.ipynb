{
 "cells": [
  {
   "attachments": {},
   "cell_type": "markdown",
   "metadata": {},
   "source": [
    "# 時系列データのベイズ分析\n",
    "\n",
    "ベクトルや行列を太文字表記していないので要注意"
   ]
  },
  {
   "cell_type": "code",
   "execution_count": null,
   "metadata": {},
   "outputs": [],
   "source": [
    "# 必要なライブラリをインポート\n",
    "import numpy as np\n",
    "import scipy.stats as st\n",
    "import scipy.linalg as la\n",
    "import pymc3 as pm\n",
    "import matplotlib.pyplot as plt\n",
    "import japanize_matplotlib\n",
    "%matplotlib inline\n",
    "\n",
    "import warnings\n",
    "warnings.simplefilter('ignore')"
   ]
  },
  {
   "attachments": {},
   "cell_type": "markdown",
   "metadata": {},
   "source": [
    "## 時系列データと状態空間表現\n",
    "時系列データの大きな特徴<br>\n",
    "-> 現在の観測値の分布が過去の観測値に依存する（独立でない）\n",
    "\n",
    "時点$t$の観測値を$y_t(t=1, \\dotsc ,n)$とし，$y_{1:t}=(y_1, \\dotsc ,y_t)$とまとめて表記する．<br>\n",
    "このとき，$y_t$の分布が過去の観測値$y_{1: t-1}$に依存すると仮定すると，$y_{1:n}$の同時分布は下記の通り．\n",
    "$$\n",
    "    p(y_{1:n}|\\theta) = p(y_1|\\theta)p(y_2|y_1, \\theta) \\times \\cdots \\times p(y_n|y_{1:n-1}, \\theta), \n",
    "$$\n",
    "\n",
    "時系列データ$y_{1:n}$の挙動を説明する最も基礎的な状態空間モデルは，下記の2つの式から構成される．\n",
    "$$\n",
    "    y_t = Z_t \\alpha_t + \\epsilon_t, \\tag{1}\n",
    "$$\n",
    "$$\n",
    "    \\alpha_{t+1} = T_t \\alpha_t + \\eta_t, \\tag{2}\n",
    "$$\n",
    "\n",
    "(1)式は**観測方程式**，(2)式は**状態方程式**と呼ばれる．\n",
    "\n",
    "|変数|概要|次元|仮定|\n",
    "|-|-|-|-|\n",
    "|$y_t$|観測される時系列データ|$m \\times 1$ベクトル|ー|\n",
    "|$\\alpha_t$|状態変数．観測されない確率変数|$r \\times 1$ベクトル|$\\alpha_1 \\sim N_r(T_0\\alpha_0, H_0H_0^T)$|\n",
    "|$\\epsilon_t$|観測方程式の誤差項|$m \\times 1$ベクトル|$e_t=G_tu_t$|\n",
    "|$\\eta_t$|状態方程式の誤差項|$r \\times 1$ベクトル|$\\eta_t=H_tu_t$|\n",
    "|$u_t$|観測されない確率変数|$l \\times 1$ベクトル|$u_t \\sim N_l(0,I)$|\n",
    "|$Z_t$|ー|$m \\times r$行列|ー|\n",
    "|$G_t$|ー|$m \\times l$行列|ー|\n",
    "|$T_t$|ー|$r \\times r$行列|ー|\n",
    "|$H_t$|ー|$r \\times l$行列|ー|\n",
    "\n",
    "以上をまとめると状態空間モデルは下記の通りに書き直すことができる．\n",
    "$$\n",
    "    y_t = Z_t \\alpha_t + G_t u_t, \\tag{3} \\\\\n",
    "    \\alpha_{t+1} = T_t \\alpha_t + H_t u_t, \n",
    "$$\n",
    "\n",
    "さらに，$\\{Z_t\\}_{t=1}^n, \\{G_t\\}_{t=1}^n, \\{T_t\\}_{t=0}^n, \\{H_t\\}_{t=0}^n, \\alpha_0$が全て既知であると仮定すると，(3)式における$\\alpha_t$を所与としたときの$y_t$と$\\alpha_{t+1}$の同時分布は下記の通りになる．\n",
    "$$\n",
    "    \\begin{bmatrix}\n",
    "        y_t \\\\ \\alpha_{t+1}\n",
    "    \\end{bmatrix} \\bigg| \\alpha_t \\sim\n",
    "    N_{m+r} \\bigg( \n",
    "        \\begin{bmatrix}\n",
    "            Z_t \\alpha_t \\\\ T_t \\alpha_t\n",
    "        \\end{bmatrix}, \\ \n",
    "        \\begin{bmatrix}\n",
    "            G_tG_t^T && G_tH_t^T \\\\\n",
    "            H_tG_t^T && H_tH_t^T\n",
    "        \\end{bmatrix}\n",
    "    \\bigg), \\tag{4}\n",
    "$$"
   ]
  },
  {
   "attachments": {},
   "cell_type": "markdown",
   "metadata": {},
   "source": [
    "## 状態空間モデルに関する推論\n"
   ]
  }
 ],
 "metadata": {
  "kernelspec": {
   "display_name": "venv",
   "language": "python",
   "name": "python3"
  },
  "language_info": {
   "name": "python",
   "version": "3.10.9"
  },
  "orig_nbformat": 4
 },
 "nbformat": 4,
 "nbformat_minor": 2
}
