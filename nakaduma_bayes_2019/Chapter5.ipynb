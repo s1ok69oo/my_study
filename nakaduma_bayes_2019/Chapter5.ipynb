{
 "cells": [
  {
   "attachments": {},
   "cell_type": "markdown",
   "metadata": {},
   "source": [
    "# 時系列データのベイズ分析\n",
    "\n",
    "ベクトルや行列を太文字表記していないので要注意"
   ]
  },
  {
   "cell_type": "code",
   "execution_count": null,
   "metadata": {},
   "outputs": [],
   "source": [
    "# 必要なライブラリをインポート\n",
    "import numpy as np\n",
    "import scipy.stats as st\n",
    "import scipy.linalg as la\n",
    "import pymc3 as pm\n",
    "import matplotlib.pyplot as plt\n",
    "import japanize_matplotlib\n",
    "%matplotlib inline\n",
    "\n",
    "import warnings\n",
    "warnings.simplefilter('ignore')"
   ]
  },
  {
   "attachments": {},
   "cell_type": "markdown",
   "metadata": {},
   "source": [
    "## 時系列データと状態空間表現\n",
    "時系列データの大きな特徴<br>\n",
    "-> 現在の観測値の分布が過去の観測値に依存する（独立でない）\n",
    "\n",
    "時点$t$の観測値を$y_t(t=1, \\dotsc ,n)$とし，$y_{1:t}=(y_1, \\dotsc ,y_t)$とまとめて表記する．<br>\n",
    "このとき，$y_t$の分布が過去の観測値$y_{1: t-1}$に依存すると仮定すると，$y_{1:n}$の同時分布は下記の通り．\n",
    "$$\n",
    "    p(y_{1:n}|\\theta) = p(y_1|\\theta)p(y_2|y_1, \\theta) \\times \\cdots \\times p(y_n|y_{1:n-1}, \\theta), \n",
    "$$\n",
    "\n",
    "時系列データ$y_{1:n}$の挙動を説明する最も基礎的な状態空間モデルは，下記の2つの式から構成される．\n",
    "$$\n",
    "    y_t = Z_t \\alpha_t + \\epsilon_t, \\tag{1}\n",
    "$$\n",
    "$$\n",
    "    \\alpha = T_t \\alpha_t + \\eta_t, \\tag{2}\n",
    "$$\n",
    "\n",
    "(1)式は**観測方程式**，(2)式は**状態方程式**と呼ばれる．"
   ]
  }
 ],
 "metadata": {
  "kernelspec": {
   "display_name": "venv",
   "language": "python",
   "name": "python3"
  },
  "language_info": {
   "name": "python",
   "version": "3.10.9"
  },
  "orig_nbformat": 4
 },
 "nbformat": 4,
 "nbformat_minor": 2
}
