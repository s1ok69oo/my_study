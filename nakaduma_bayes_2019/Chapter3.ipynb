{
 "cells": [
  {
   "cell_type": "markdown",
   "id": "38c5d80d-566f-45dd-a0ef-9e89b1c97c51",
   "metadata": {},
   "source": [
    "# Chapter3: 様々な確率分布を想定したベイズ分析"
   ]
  },
  {
   "cell_type": "code",
   "execution_count": 1,
   "id": "04559aed-7584-4f23-9188-47c4f5de434e",
   "metadata": {},
   "outputs": [],
   "source": [
    "# 必要なライブラリをインポート\n",
    "import numpy as np\n",
    "import pandas as pd\n",
    "import scipy.stats as st\n",
    "import scipy.optimize as opt\n",
    "import scipy.linalg as la\n",
    "import matplotlib.pyplot as plt\n",
    "import japanize_matplotlib\n",
    "%matplotlib inline"
   ]
  },
  {
   "cell_type": "code",
   "execution_count": null,
   "id": "d85c4c52-9c20-4d79-a853-22f975155ef9",
   "metadata": {},
   "outputs": [],
   "source": []
  }
 ],
 "metadata": {
  "kernelspec": {
   "display_name": "Python 3 (ipykernel)",
   "language": "python",
   "name": "python3"
  },
  "language_info": {
   "codemirror_mode": {
    "name": "ipython",
    "version": 3
   },
   "file_extension": ".py",
   "mimetype": "text/x-python",
   "name": "python",
   "nbconvert_exporter": "python",
   "pygments_lexer": "ipython3",
   "version": "3.10.9"
  }
 },
 "nbformat": 4,
 "nbformat_minor": 5
}
