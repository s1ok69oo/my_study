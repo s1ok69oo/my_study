{
 "cells": [
  {
   "attachments": {},
   "cell_type": "markdown",
   "metadata": {},
   "source": [
    "# マルコフ連鎖モンテカルロ法\n",
    "\n",
    "ベクトルや行列を太文字表記していないので要注意"
   ]
  },
  {
   "cell_type": "code",
   "execution_count": 1,
   "metadata": {},
   "outputs": [],
   "source": [
    "# 必要なライブラリをインポート\n",
    "from tqdm import trange\n",
    "import numpy as np\n",
    "import scipy.stats as st\n",
    "import pandas as pd\n",
    "import pymc3 as pm\n",
    "import matplotlib.pyplot as plt\n",
    "import japanize_matplotlib\n",
    "%matplotlib inline\n",
    "\n",
    "import warnings\n",
    "warnings.simplefilter('ignore')"
   ]
  },
  {
   "attachments": {},
   "cell_type": "markdown",
   "metadata": {},
   "source": [
    "## マルコフ連鎖と不変分布\n",
    "\n",
    "### マルコフ連鎖の概要\n",
    "確率変数の系列$\\{X_t\\}_{t=0}^{\\infty}$に対して，$\\{X_s\\}_{s=0}^{t-1}$の実現値$\\{x_s\\}_{s=0}^{t-1}$が与えられた下で$X_t$が部分集合$A \\subseteq \\chi$内に値をとる条件付き確率が以下のように表現されるとき，$\\{X_t\\}_{t=0}^{\\infty}$は**マルコフ連鎖**であるという．\n",
    "$$\n",
    "    Pr\\{ X_t \\in A| X_0=x_0, \\dotsc , X_{t-1}=x_{t=1} \\}\n",
    "    = Pr\\{ X_t \\in A| X_{t-1}=x_{t-1} \\} \\tag{1-1}\n",
    "$$\n",
    "> 要は，確率変数$X_t$の条件付き確率分布は直近の確率変数の実現値$x_{t-1}$にのみ依存している．\n",
    "\n",
    "マルコフ連鎖における重要な概念\n",
    "- 斉時性: (1-1)式の条件付き確率が時点$t$に依存しないこと\n",
    "- 規約性: 確率分布$f$で実現しうる$\\chi$内のいかなる場所にもマルコフ連鎖が到達可能であること\n",
    "- 周期性: 一定の時間を経過しないとマルコフ連鎖が再び訪れることができない場所が$\\chi$内に存在すること\n",
    "- 再帰性: 確率分布$f$で実現しうる$\\chi$内のいかなる場所にもマルコフ連鎖が有限時間内に必ず訪れること\n",
    "\n",
    "$X_t$の$\\{x_s\\}_{s=0}^{t-1}$が与えられた下での条件付き確率分布は以下の通り．\n",
    "$$\n",
    "    f_t(x_t|x_0, \\dotsc, x_{t-1}) = f(x_t|t_{t-1}) \\tag{1-2}\n",
    "$$\n",
    "マルコフ連鎖が斉時的であるとき，(1-2)式の右辺の関数形は時点$t$に依存せず，$\\{X_s\\}_{s=0}^t$のどう次確率分布は以下のように与えられる．\n",
    "$$\n",
    "    f(x_0, \\dotsc, x_t)\n",
    "    = f_0(x_0) \\prod_{s=1}^t f(x_s|x_{s-1}) \\tag{1-3}\n",
    "$$\n",
    "この$f(x_t|x_{t-1})$をマルコフ連鎖の**遷移核**と呼ぶ．\n",
    "\n",
    "### マルコフ連鎖の不変分布\n",
    "以下を満たす$\\bar{f}$をマルコフ連鎖の**不変分布**または**定常分布**という．\n",
    "$$\n",
    "    \\bar{f}(\\tilde{x})\n",
    "    = \\int_{\\chi} \\bar{f}(x)K(x, \\tilde{x})dx, \n",
    "    あるいは \\\n",
    "    \\bar{f} = \\bar{f} \\circ K, \\tag{1-4}\n",
    "$$\n",
    "ここで$K$はマルコフ連鎖の遷移核を表す．\n",
    "\n",
    "\n",
    "### マルコフ連鎖からの乱数系列の生成\n",
    "斉時的なマルコフ連鎖は$f_0$と$K$にのみ依存するという簡単な構造をしており，$f_0$と$K$からの乱数生成が可能であれば，マルコフ連鎖からの乱数生成を以下の手順で行うことができる．\n",
    "1. $t=1$として$\\tilde{x}_0 \\gets f_0(x_0)$．\n",
    "2. $\\tilde{x}_t \\gets K(\\tilde{x}_{t-1}, x_t)$．\n",
    "3. $t$を$1$増やして手順2に戻る\n",
    "\n",
    "マルコフ連鎖が$\\bar{f}$に収束したと判断されるまで乱数$\\{\\tilde{x_t}\\}_{t=0}^{t^*}$を生成し続けることを**検査稼働期間**（バーンイン）と呼ぶ．そして，$\\bar{f}$に収束したと判断した回以降のマルコフ連鎖から生成した$\\{\\tilde{x}_t\\}_{t={t^*}+1}^{{t^*}+T}$は$\\bar{f}$からのモンテカルロ標本として利用可能である．\n",
    "\n",
    "不変分布への収束後のサンプリングは大きく分けて(i)多重連鎖法，(ii)単一連鎖法 の2通り\n",
    "\n",
    "(i)多重連鎖法の手順\n",
    "1. $\\tilde{x}_0 \\gets f_0(x_0)$．\n",
    "2. マルコフ連鎖から分布が収束するまで乱数を生成する．\n",
    "3. 最後の$\\tilde{x}_t$を保存し，手順1に戻る．\n",
    "\n",
    "(ii)単一連鎖法の手順\n",
    "1. $\\bar{f}$の取りうる領域から$\\tilde{x}_0$を選ぶ．\n",
    "2. マルコフ連鎖から分布が収束するまで乱数を生成する．\n",
    "3. 必要な数の$\\tilde{x}_t$を続けてマルコフ連鎖から生成する．"
   ]
  },
  {
   "attachments": {},
   "cell_type": "markdown",
   "metadata": {},
   "source": [
    "## メトロポリス-ヘイスティングズ・アルゴリズム"
   ]
  },
  {
   "attachments": {},
   "cell_type": "markdown",
   "metadata": {},
   "source": [
    "## ギブズ・サンプラー"
   ]
  },
  {
   "cell_type": "code",
   "execution_count": null,
   "metadata": {},
   "outputs": [],
   "source": []
  }
 ],
 "metadata": {
  "kernelspec": {
   "display_name": ".venv",
   "language": "python",
   "name": "python3"
  },
  "language_info": {
   "codemirror_mode": {
    "name": "ipython",
    "version": 3
   },
   "file_extension": ".py",
   "mimetype": "text/x-python",
   "name": "python",
   "nbconvert_exporter": "python",
   "pygments_lexer": "ipython3",
   "version": "3.10.9"
  },
  "orig_nbformat": 4
 },
 "nbformat": 4,
 "nbformat_minor": 2
}
